{
 "cells": [
  {
   "cell_type": "code",
   "execution_count": 1,
   "metadata": {},
   "outputs": [],
   "source": [
    "from dotenv import load_dotenv\n",
    "import MySQLdb\n",
    "import numpy as np\n",
    "import os\n",
    "import pandas as pd\n",
    "import tensorflow as tf\n",
    "import tensorflow_hub as hub\n",
    "import tensorflow_text\n",
    "from sklearn.metrics.pairwise import cosine_similarity"
   ]
  },
  {
   "cell_type": "code",
   "execution_count": 2,
   "metadata": {},
   "outputs": [],
   "source": [
    "# Connect to the MySQL database\n",
    "load_dotenv()\n",
    "\n",
    "connection = MySQLdb.connect(\n",
    "  host=os.getenv(\"HOST\"),\n",
    "  user=os.getenv(\"USERNAME\"),\n",
    "  passwd=os.getenv(\"PASSWORD\"),\n",
    "  db=os.getenv(\"DATABASE\"),\n",
    "  autocommit=True,\n",
    "  ssl_mode=\"VERIFY_IDENTITY\",\n",
    "  ssl={\"ca\": \"/etc/ssl/cert.pem\"},\n",
    ")\n",
    "\n",
    "cursor = connection.cursor()"
   ]
  },
  {
   "cell_type": "code",
   "execution_count": 3,
   "metadata": {},
   "outputs": [
    {
     "name": "stdout",
     "output_type": "stream",
     "text": [
      "                                     id  \\\n",
      "0  00dd2dc5-2596-4f5a-8686-269fbaec8a37   \n",
      "1  07c738cd-bb63-43ab-b2c5-3039ff0df9fb   \n",
      "2  0ae3dfce-c863-4e4d-ba4e-e0546c280c82   \n",
      "3  11a44b0e-12e5-4348-843a-438acb10c1a8   \n",
      "4  1aecd20a-3658-43a7-bf4d-8463c0754219   \n",
      "5  5be3d665-d85c-4b96-b637-17bfb3848f06   \n",
      "6  8d5f5dac-605a-4dfe-87a7-244c85b71c75   \n",
      "7  b364a0b7-cb8b-42d8-8d94-0e65fa1df257   \n",
      "8  e96f6ff7-9947-47ac-b139-ccbddb1d8a33   \n",
      "\n",
      "                                   content  \n",
      "0                                     yooo  \n",
      "1   this is an epic website, 10/10 stars\\n  \n",
      "2                                very cool  \n",
      "3  Nathan's dad makes good chicken papaya!  \n",
      "4                                   Hello!  \n",
      "5                  https://chat.openai.com  \n",
      "6                                  epicccc  \n",
      "7                        ¯\\_( ͡❛ ͜ʖ ͡❛)_/¯  \n",
      "8                                ~('v'~)\\n  \n"
     ]
    }
   ],
   "source": [
    "# Fetch all posts\n",
    "query = \"SELECT id, content FROM Post\"\n",
    "cursor.execute(query)\n",
    "\n",
    "posts = pd.DataFrame(cursor.fetchall(), columns=[\"id\", \"content\"])\n",
    "\n",
    "print(posts)"
   ]
  },
  {
   "cell_type": "code",
   "execution_count": 4,
   "metadata": {},
   "outputs": [],
   "source": [
    "# The function to embed the text\n",
    "def embed(texts):\n",
    "  hub_url = \"https://tfhub.dev/google/universal-sentence-encoder/4\"\n",
    "  with tf.device(\"/cpu:0\"):\n",
    "    embedding = hub.load(hub_url)(texts)\n",
    "\n",
    "  embedding = np.array(embedding)\n",
    "\n",
    "  return embedding"
   ]
  },
  {
   "cell_type": "code",
   "execution_count": 5,
   "metadata": {},
   "outputs": [
    {
     "name": "stdout",
     "output_type": "stream",
     "text": [
      "Metal device set to: Apple M1 Pro\n",
      "\n",
      "systemMemory: 16.00 GB\n",
      "maxCacheSize: 5.33 GB\n",
      "\n"
     ]
    },
    {
     "name": "stderr",
     "output_type": "stream",
     "text": [
      "2023-06-07 21:50:30.830271: W tensorflow/tsl/platform/profile_utils/cpu_utils.cc:128] Failed to get CPU frequency: 0 Hz\n"
     ]
    },
    {
     "name": "stdout",
     "output_type": "stream",
     "text": [
      "(9, 512)\n",
      "[[ 0.00106538 -0.00854104  0.06823314 ... -0.09808023  0.01103214\n",
      "  -0.01372389]\n",
      " [-0.04650597  0.00439887 -0.01854666 ... -0.04169654  0.04049069\n",
      "  -0.03430885]\n",
      " [ 0.01422869  0.04488054  0.02140874 ... -0.04481297 -0.00456409\n",
      "  -0.00886978]\n",
      " ...\n",
      " [-0.02576295  0.03394373  0.02542277 ... -0.05315149  0.08471154\n",
      "  -0.06853922]\n",
      " [ 0.00813886  0.03888463  0.02779601 ... -0.02551527  0.06516523\n",
      "  -0.0162978 ]\n",
      " [ 0.00890347 -0.01208538  0.04783745 ... -0.07256813  0.0883611\n",
      "  -0.03279964]]\n"
     ]
    }
   ],
   "source": [
    "post_embeddings = embed(posts[\"content\"].tolist())\n",
    "\n",
    "print(post_embeddings.shape)\n",
    "print(post_embeddings)"
   ]
  },
  {
   "cell_type": "code",
   "execution_count": 6,
   "metadata": {},
   "outputs": [
    {
     "name": "stdout",
     "output_type": "stream",
     "text": [
      "                                     id  \\\n",
      "0  07c738cd-bb63-43ab-b2c5-3039ff0df9fb   \n",
      "1  11a44b0e-12e5-4348-843a-438acb10c1a8   \n",
      "\n",
      "                                   content  \n",
      "0   this is an epic website, 10/10 stars\\n  \n",
      "1  Nathan's dad makes good chicken papaya!  \n"
     ]
    }
   ],
   "source": [
    "user_id = \"clic1dtrw0004la08gavufafb\"\n",
    "\n",
    "query = f\"\"\"\n",
    "  SELECT p.id, p.content\n",
    "  FROM Post p\n",
    "  JOIN `Like` l ON p.id = l.postId\n",
    "  WHERE l.userId = '{user_id}';\n",
    "\"\"\"\n",
    "cursor.execute(query)\n",
    "\n",
    "liked_posts = pd.DataFrame(cursor.fetchall(), columns=[\"id\", \"content\"])\n",
    "\n",
    "print(liked_posts)"
   ]
  },
  {
   "cell_type": "code",
   "execution_count": 7,
   "metadata": {},
   "outputs": [
    {
     "name": "stdout",
     "output_type": "stream",
     "text": [
      "(2, 512)\n",
      "[[-0.04650597  0.00439885 -0.01854667 ... -0.04169655  0.04049069\n",
      "  -0.03430884]\n",
      " [ 0.04226284  0.0172637   0.02388385 ...  0.01653581  0.04116938\n",
      "  -0.05893382]]\n"
     ]
    }
   ],
   "source": [
    "# Embed the liked posts\n",
    "liked_post_embeddings = embed(liked_posts[\"content\"].tolist())\n",
    "\n",
    "print(liked_post_embeddings.shape)\n",
    "print(liked_post_embeddings)"
   ]
  },
  {
   "cell_type": "code",
   "execution_count": 8,
   "metadata": {},
   "outputs": [
    {
     "name": "stdout",
     "output_type": "stream",
     "text": [
      "[1 2 0 7 4 8 5 6 3]\n"
     ]
    }
   ],
   "source": [
    "# Calculate the similarity scores\n",
    "similarity_scores = cosine_similarity(liked_post_embeddings, post_embeddings)\n",
    "\n",
    "recommend_index = np.argsort(-similarity_scores)[0]\n",
    "\n",
    "print(recommend_index)"
   ]
  },
  {
   "cell_type": "code",
   "execution_count": 9,
   "metadata": {},
   "outputs": [
    {
     "name": "stdout",
     "output_type": "stream",
     "text": [
      "07c738cd-bb63-43ab-b2c5-3039ff0df9fb | this is an epic website, 10/10 stars\n",
      "\n",
      "0ae3dfce-c863-4e4d-ba4e-e0546c280c82 | very cool\n",
      "00dd2dc5-2596-4f5a-8686-269fbaec8a37 | yooo\n",
      "b364a0b7-cb8b-42d8-8d94-0e65fa1df257 | ¯\\_( ͡❛ ͜ʖ ͡❛)_/¯\n",
      "1aecd20a-3658-43a7-bf4d-8463c0754219 | Hello!\n",
      "e96f6ff7-9947-47ac-b139-ccbddb1d8a33 | ~('v'~)\n",
      "\n",
      "5be3d665-d85c-4b96-b637-17bfb3848f06 | https://chat.openai.com\n",
      "8d5f5dac-605a-4dfe-87a7-244c85b71c75 | epicccc\n",
      "11a44b0e-12e5-4348-843a-438acb10c1a8 | Nathan's dad makes good chicken papaya!\n"
     ]
    }
   ],
   "source": [
    "for index in recommend_index:\n",
    "  print(posts.iloc[index][\"id\"], '|' ,posts.iloc[index][\"content\"])"
   ]
  }
 ],
 "metadata": {
  "kernelspec": {
   "display_name": "tensorflow",
   "language": "python",
   "name": "python3"
  },
  "language_info": {
   "codemirror_mode": {
    "name": "ipython",
    "version": 3
   },
   "file_extension": ".py",
   "mimetype": "text/x-python",
   "name": "python",
   "nbconvert_exporter": "python",
   "pygments_lexer": "ipython3",
   "version": "3.10.9"
  },
  "orig_nbformat": 4
 },
 "nbformat": 4,
 "nbformat_minor": 2
}
